{
 "cells": [
  {
   "cell_type": "markdown",
   "metadata": {},
   "source": [
    "# Pymaceuticals Inc.\n",
    "---\n",
    "\n",
    "### Analysis\n",
    "\n",
    "Capomulin and Ramicane reduces the size of tumors the best.\n",
    "The 0.84 shows that there is a strong positive correlation, as the weight increases the average tumor volume increases.\n",
    "There was almost an equal percentage of male and female mice so you can infer that the data is fairly accurate."
   ]
  },
  {
   "cell_type": "code",
   "execution_count": 3,
   "metadata": {},
   "outputs": [
    {
     "data": {
      "text/html": [
       "<div>\n",
       "<style scoped>\n",
       "    .dataframe tbody tr th:only-of-type {\n",
       "        vertical-align: middle;\n",
       "    }\n",
       "\n",
       "    .dataframe tbody tr th {\n",
       "        vertical-align: top;\n",
       "    }\n",
       "\n",
       "    .dataframe thead th {\n",
       "        text-align: right;\n",
       "    }\n",
       "</style>\n",
       "<table border=\"1\" class=\"dataframe\">\n",
       "  <thead>\n",
       "    <tr style=\"text-align: right;\">\n",
       "      <th></th>\n",
       "      <th>Mouse ID</th>\n",
       "      <th>Drug Regimen</th>\n",
       "      <th>Sex</th>\n",
       "      <th>Age_months</th>\n",
       "      <th>Weight (g)</th>\n",
       "    </tr>\n",
       "  </thead>\n",
       "  <tbody>\n",
       "    <tr>\n",
       "      <th>0</th>\n",
       "      <td>k403</td>\n",
       "      <td>Ramicane</td>\n",
       "      <td>Male</td>\n",
       "      <td>21</td>\n",
       "      <td>16</td>\n",
       "    </tr>\n",
       "    <tr>\n",
       "      <th>1</th>\n",
       "      <td>s185</td>\n",
       "      <td>Capomulin</td>\n",
       "      <td>Female</td>\n",
       "      <td>3</td>\n",
       "      <td>17</td>\n",
       "    </tr>\n",
       "    <tr>\n",
       "      <th>2</th>\n",
       "      <td>x401</td>\n",
       "      <td>Capomulin</td>\n",
       "      <td>Female</td>\n",
       "      <td>16</td>\n",
       "      <td>15</td>\n",
       "    </tr>\n",
       "    <tr>\n",
       "      <th>3</th>\n",
       "      <td>m601</td>\n",
       "      <td>Capomulin</td>\n",
       "      <td>Male</td>\n",
       "      <td>22</td>\n",
       "      <td>17</td>\n",
       "    </tr>\n",
       "    <tr>\n",
       "      <th>4</th>\n",
       "      <td>g791</td>\n",
       "      <td>Ramicane</td>\n",
       "      <td>Male</td>\n",
       "      <td>11</td>\n",
       "      <td>16</td>\n",
       "    </tr>\n",
       "  </tbody>\n",
       "</table>\n",
       "</div>"
      ],
      "text/plain": [
       "  Mouse ID Drug Regimen     Sex  Age_months  Weight (g)\n",
       "0     k403     Ramicane    Male          21          16\n",
       "1     s185    Capomulin  Female           3          17\n",
       "2     x401    Capomulin  Female          16          15\n",
       "3     m601    Capomulin    Male          22          17\n",
       "4     g791     Ramicane    Male          11          16"
      ]
     },
     "execution_count": 3,
     "metadata": {},
     "output_type": "execute_result"
    }
   ],
   "source": [
    "# Dependencies and Setup\n",
    "import matplotlib.pyplot as plt\n",
    "import pandas as pd\n",
    "import scipy.stats as st\n",
    "import numpy as np\n",
    "\n",
    "# Study data files\n",
    "mouse_metadata_path = \"data/Mouse_metadata.csv\"\n",
    "study_results_path = \"data/Study_results.csv\"\n",
    "\n",
    "# Read the mouse data and the study results\n",
    "mouse_metadata = pd.read_csv(mouse_metadata_path)\n",
    "study_results = pd.read_csv(study_results_path)\n",
    "\n",
    "# Combine the data into a single dataset\n",
    "mouse_metadata = pd.read_csv(mouse_metadata_path)\n",
    "mouse_metadata.head()\n",
    "\n",
    "# Display the data table for preview\n"
   ]
  },
  {
   "cell_type": "code",
   "execution_count": 10,
   "metadata": {},
   "outputs": [
    {
     "data": {
      "text/plain": [
       "249"
      ]
     },
     "execution_count": 10,
     "metadata": {},
     "output_type": "execute_result"
    }
   ],
   "source": [
    "# Merge data and count mice\n",
    "combined_df = pd.merge(mouse_metadata, study_results, how='outer', on=\"Mouse ID\")\n",
    "combined_df.head()\n",
    "\n",
    "num_mice = combined_df[\"Mouse ID\"].nunique()\n",
    "num_mice\n",
    "#Why can't count work?"
   ]
  },
  {
   "cell_type": "code",
   "execution_count": 11,
   "metadata": {},
   "outputs": [
    {
     "data": {
      "text/plain": [
       "array(['g989'], dtype=object)"
      ]
     },
     "execution_count": 11,
     "metadata": {},
     "output_type": "execute_result"
    }
   ],
   "source": [
    "# Getting the duplicate mice by ID number that shows up for Mouse ID and Timepoint. \n",
    "dup_mice_ID = combined_df.loc[combined_df.duplicated(subset=['Mouse ID', 'Timepoint']),'Mouse ID'].unique()\n",
    "dup_mice_ID"
   ]
  },
  {
   "cell_type": "code",
   "execution_count": 12,
   "metadata": {},
   "outputs": [
    {
     "data": {
      "text/html": [
       "<div>\n",
       "<style scoped>\n",
       "    .dataframe tbody tr th:only-of-type {\n",
       "        vertical-align: middle;\n",
       "    }\n",
       "\n",
       "    .dataframe tbody tr th {\n",
       "        vertical-align: top;\n",
       "    }\n",
       "\n",
       "    .dataframe thead th {\n",
       "        text-align: right;\n",
       "    }\n",
       "</style>\n",
       "<table border=\"1\" class=\"dataframe\">\n",
       "  <thead>\n",
       "    <tr style=\"text-align: right;\">\n",
       "      <th></th>\n",
       "      <th>Mouse ID</th>\n",
       "      <th>Drug Regimen</th>\n",
       "      <th>Sex</th>\n",
       "      <th>Age_months</th>\n",
       "      <th>Weight (g)</th>\n",
       "      <th>Timepoint</th>\n",
       "      <th>Tumor Volume (mm3)</th>\n",
       "      <th>Metastatic Sites</th>\n",
       "    </tr>\n",
       "  </thead>\n",
       "  <tbody>\n",
       "    <tr>\n",
       "      <th>908</th>\n",
       "      <td>g989</td>\n",
       "      <td>Propriva</td>\n",
       "      <td>Female</td>\n",
       "      <td>21</td>\n",
       "      <td>26</td>\n",
       "      <td>0</td>\n",
       "      <td>45.000000</td>\n",
       "      <td>0</td>\n",
       "    </tr>\n",
       "    <tr>\n",
       "      <th>909</th>\n",
       "      <td>g989</td>\n",
       "      <td>Propriva</td>\n",
       "      <td>Female</td>\n",
       "      <td>21</td>\n",
       "      <td>26</td>\n",
       "      <td>0</td>\n",
       "      <td>45.000000</td>\n",
       "      <td>0</td>\n",
       "    </tr>\n",
       "    <tr>\n",
       "      <th>910</th>\n",
       "      <td>g989</td>\n",
       "      <td>Propriva</td>\n",
       "      <td>Female</td>\n",
       "      <td>21</td>\n",
       "      <td>26</td>\n",
       "      <td>5</td>\n",
       "      <td>48.786801</td>\n",
       "      <td>0</td>\n",
       "    </tr>\n",
       "    <tr>\n",
       "      <th>911</th>\n",
       "      <td>g989</td>\n",
       "      <td>Propriva</td>\n",
       "      <td>Female</td>\n",
       "      <td>21</td>\n",
       "      <td>26</td>\n",
       "      <td>5</td>\n",
       "      <td>47.570392</td>\n",
       "      <td>0</td>\n",
       "    </tr>\n",
       "    <tr>\n",
       "      <th>912</th>\n",
       "      <td>g989</td>\n",
       "      <td>Propriva</td>\n",
       "      <td>Female</td>\n",
       "      <td>21</td>\n",
       "      <td>26</td>\n",
       "      <td>10</td>\n",
       "      <td>51.745156</td>\n",
       "      <td>0</td>\n",
       "    </tr>\n",
       "    <tr>\n",
       "      <th>913</th>\n",
       "      <td>g989</td>\n",
       "      <td>Propriva</td>\n",
       "      <td>Female</td>\n",
       "      <td>21</td>\n",
       "      <td>26</td>\n",
       "      <td>10</td>\n",
       "      <td>49.880528</td>\n",
       "      <td>0</td>\n",
       "    </tr>\n",
       "    <tr>\n",
       "      <th>914</th>\n",
       "      <td>g989</td>\n",
       "      <td>Propriva</td>\n",
       "      <td>Female</td>\n",
       "      <td>21</td>\n",
       "      <td>26</td>\n",
       "      <td>15</td>\n",
       "      <td>51.325852</td>\n",
       "      <td>1</td>\n",
       "    </tr>\n",
       "    <tr>\n",
       "      <th>915</th>\n",
       "      <td>g989</td>\n",
       "      <td>Propriva</td>\n",
       "      <td>Female</td>\n",
       "      <td>21</td>\n",
       "      <td>26</td>\n",
       "      <td>15</td>\n",
       "      <td>53.442020</td>\n",
       "      <td>0</td>\n",
       "    </tr>\n",
       "    <tr>\n",
       "      <th>916</th>\n",
       "      <td>g989</td>\n",
       "      <td>Propriva</td>\n",
       "      <td>Female</td>\n",
       "      <td>21</td>\n",
       "      <td>26</td>\n",
       "      <td>20</td>\n",
       "      <td>55.326122</td>\n",
       "      <td>1</td>\n",
       "    </tr>\n",
       "    <tr>\n",
       "      <th>917</th>\n",
       "      <td>g989</td>\n",
       "      <td>Propriva</td>\n",
       "      <td>Female</td>\n",
       "      <td>21</td>\n",
       "      <td>26</td>\n",
       "      <td>20</td>\n",
       "      <td>54.657650</td>\n",
       "      <td>1</td>\n",
       "    </tr>\n",
       "    <tr>\n",
       "      <th>918</th>\n",
       "      <td>g989</td>\n",
       "      <td>Propriva</td>\n",
       "      <td>Female</td>\n",
       "      <td>21</td>\n",
       "      <td>26</td>\n",
       "      <td>25</td>\n",
       "      <td>56.045564</td>\n",
       "      <td>1</td>\n",
       "    </tr>\n",
       "    <tr>\n",
       "      <th>919</th>\n",
       "      <td>g989</td>\n",
       "      <td>Propriva</td>\n",
       "      <td>Female</td>\n",
       "      <td>21</td>\n",
       "      <td>26</td>\n",
       "      <td>30</td>\n",
       "      <td>59.082294</td>\n",
       "      <td>1</td>\n",
       "    </tr>\n",
       "    <tr>\n",
       "      <th>920</th>\n",
       "      <td>g989</td>\n",
       "      <td>Propriva</td>\n",
       "      <td>Female</td>\n",
       "      <td>21</td>\n",
       "      <td>26</td>\n",
       "      <td>35</td>\n",
       "      <td>62.570880</td>\n",
       "      <td>2</td>\n",
       "    </tr>\n",
       "  </tbody>\n",
       "</table>\n",
       "</div>"
      ],
      "text/plain": [
       "    Mouse ID Drug Regimen     Sex  Age_months  Weight (g)  Timepoint  \\\n",
       "908     g989     Propriva  Female          21          26          0   \n",
       "909     g989     Propriva  Female          21          26          0   \n",
       "910     g989     Propriva  Female          21          26          5   \n",
       "911     g989     Propriva  Female          21          26          5   \n",
       "912     g989     Propriva  Female          21          26         10   \n",
       "913     g989     Propriva  Female          21          26         10   \n",
       "914     g989     Propriva  Female          21          26         15   \n",
       "915     g989     Propriva  Female          21          26         15   \n",
       "916     g989     Propriva  Female          21          26         20   \n",
       "917     g989     Propriva  Female          21          26         20   \n",
       "918     g989     Propriva  Female          21          26         25   \n",
       "919     g989     Propriva  Female          21          26         30   \n",
       "920     g989     Propriva  Female          21          26         35   \n",
       "\n",
       "     Tumor Volume (mm3)  Metastatic Sites  \n",
       "908           45.000000                 0  \n",
       "909           45.000000                 0  \n",
       "910           48.786801                 0  \n",
       "911           47.570392                 0  \n",
       "912           51.745156                 0  \n",
       "913           49.880528                 0  \n",
       "914           51.325852                 1  \n",
       "915           53.442020                 0  \n",
       "916           55.326122                 1  \n",
       "917           54.657650                 1  \n",
       "918           56.045564                 1  \n",
       "919           59.082294                 1  \n",
       "920           62.570880                 2  "
      ]
     },
     "execution_count": 12,
     "metadata": {},
     "output_type": "execute_result"
    }
   ],
   "source": [
    "# Optional: Get all the data for the duplicate mouse ID. \n",
    "dup_mice_df = combined_df.loc[combined_df[\"Mouse ID\"] == \"g989\", :]\n",
    "dup_mice_df"
   ]
  },
  {
   "cell_type": "code",
   "execution_count": 13,
   "metadata": {},
   "outputs": [
    {
     "data": {
      "text/html": [
       "<div>\n",
       "<style scoped>\n",
       "    .dataframe tbody tr th:only-of-type {\n",
       "        vertical-align: middle;\n",
       "    }\n",
       "\n",
       "    .dataframe tbody tr th {\n",
       "        vertical-align: top;\n",
       "    }\n",
       "\n",
       "    .dataframe thead th {\n",
       "        text-align: right;\n",
       "    }\n",
       "</style>\n",
       "<table border=\"1\" class=\"dataframe\">\n",
       "  <thead>\n",
       "    <tr style=\"text-align: right;\">\n",
       "      <th></th>\n",
       "      <th>Mouse ID</th>\n",
       "      <th>Drug Regimen</th>\n",
       "      <th>Sex</th>\n",
       "      <th>Age_months</th>\n",
       "      <th>Weight (g)</th>\n",
       "      <th>Timepoint</th>\n",
       "      <th>Tumor Volume (mm3)</th>\n",
       "      <th>Metastatic Sites</th>\n",
       "    </tr>\n",
       "  </thead>\n",
       "  <tbody>\n",
       "    <tr>\n",
       "      <th>0</th>\n",
       "      <td>k403</td>\n",
       "      <td>Ramicane</td>\n",
       "      <td>Male</td>\n",
       "      <td>21</td>\n",
       "      <td>16</td>\n",
       "      <td>0</td>\n",
       "      <td>45.000000</td>\n",
       "      <td>0</td>\n",
       "    </tr>\n",
       "    <tr>\n",
       "      <th>1</th>\n",
       "      <td>k403</td>\n",
       "      <td>Ramicane</td>\n",
       "      <td>Male</td>\n",
       "      <td>21</td>\n",
       "      <td>16</td>\n",
       "      <td>5</td>\n",
       "      <td>38.825898</td>\n",
       "      <td>0</td>\n",
       "    </tr>\n",
       "    <tr>\n",
       "      <th>2</th>\n",
       "      <td>k403</td>\n",
       "      <td>Ramicane</td>\n",
       "      <td>Male</td>\n",
       "      <td>21</td>\n",
       "      <td>16</td>\n",
       "      <td>10</td>\n",
       "      <td>35.014271</td>\n",
       "      <td>1</td>\n",
       "    </tr>\n",
       "    <tr>\n",
       "      <th>3</th>\n",
       "      <td>k403</td>\n",
       "      <td>Ramicane</td>\n",
       "      <td>Male</td>\n",
       "      <td>21</td>\n",
       "      <td>16</td>\n",
       "      <td>15</td>\n",
       "      <td>34.223992</td>\n",
       "      <td>1</td>\n",
       "    </tr>\n",
       "    <tr>\n",
       "      <th>4</th>\n",
       "      <td>k403</td>\n",
       "      <td>Ramicane</td>\n",
       "      <td>Male</td>\n",
       "      <td>21</td>\n",
       "      <td>16</td>\n",
       "      <td>20</td>\n",
       "      <td>32.997729</td>\n",
       "      <td>1</td>\n",
       "    </tr>\n",
       "  </tbody>\n",
       "</table>\n",
       "</div>"
      ],
      "text/plain": [
       "  Mouse ID Drug Regimen   Sex  Age_months  Weight (g)  Timepoint  \\\n",
       "0     k403     Ramicane  Male          21          16          0   \n",
       "1     k403     Ramicane  Male          21          16          5   \n",
       "2     k403     Ramicane  Male          21          16         10   \n",
       "3     k403     Ramicane  Male          21          16         15   \n",
       "4     k403     Ramicane  Male          21          16         20   \n",
       "\n",
       "   Tumor Volume (mm3)  Metastatic Sites  \n",
       "0           45.000000                 0  \n",
       "1           38.825898                 0  \n",
       "2           35.014271                 1  \n",
       "3           34.223992                 1  \n",
       "4           32.997729                 1  "
      ]
     },
     "execution_count": 13,
     "metadata": {},
     "output_type": "execute_result"
    }
   ],
   "source": [
    "# Create a clean DataFrame by dropping the duplicate mouse by its ID.\n",
    "clean_df = combined_df[combined_df['Mouse ID'].isin(dup_mice_ID)==False]\n",
    "clean_df.head()"
   ]
  },
  {
   "cell_type": "code",
   "execution_count": 17,
   "metadata": {},
   "outputs": [
    {
     "data": {
      "text/plain": [
       "248"
      ]
     },
     "execution_count": 17,
     "metadata": {},
     "output_type": "execute_result"
    }
   ],
   "source": [
    "# Checking the number of mice in the clean DataFrame.\n",
    "#Why can't .count work\n",
    "clean_mice = clean_df[\"Mouse ID\"].nunique()\n",
    "\n",
    "clean_mice"
   ]
  },
  {
   "cell_type": "markdown",
   "metadata": {},
   "source": [
    "## Summary Statistics"
   ]
  },
  {
   "cell_type": "code",
   "execution_count": 21,
   "metadata": {},
   "outputs": [
    {
     "name": "stdout",
     "output_type": "stream",
     "text": [
      "              Mean Tumor Volume  Median Tumor Volume  Tumor Volume Variance  \\\n",
      "Drug Regimen                                                                  \n",
      "Capomulin             40.675741            41.557809              24.947764   \n",
      "Ceftamin              52.591172            51.776157              39.290177   \n",
      "Infubinol             52.884795            51.820584              43.128684   \n",
      "Ketapril              55.235638            53.698743              68.553577   \n",
      "Naftisol              54.331565            52.509285              66.173479   \n",
      "Placebo               54.033581            52.288934              61.168083   \n",
      "Propriva              52.320930            50.446266              43.852013   \n",
      "Ramicane              40.216745            40.673236              23.486704   \n",
      "Stelasyn              54.233149            52.431737              59.450562   \n",
      "Zoniferol             53.236507            51.818479              48.533355   \n",
      "\n",
      "              Tumor Volume Std. Dev.  Tumor Volume Std. Err.  \n",
      "Drug Regimen                                                  \n",
      "Capomulin                   4.994774                0.329346  \n",
      "Ceftamin                    6.268188                0.469821  \n",
      "Infubinol                   6.567243                0.492236  \n",
      "Ketapril                    8.279709                0.603860  \n",
      "Naftisol                    8.134708                0.596466  \n",
      "Placebo                     7.821003                0.581331  \n",
      "Propriva                    6.622085                0.544332  \n",
      "Ramicane                    4.846308                0.320955  \n",
      "Stelasyn                    7.710419                0.573111  \n",
      "Zoniferol                   6.966589                0.516398  \n"
     ]
    }
   ],
   "source": [
    "# Generate a summary statistics table of mean, median, variance, standard deviation, and SEM of the tumor volume for each regimen\n",
    "\n",
    "# Use groupby and summary statistical methods to calculate the following properties of each drug regimen: \n",
    "# mean, median, variance, standard deviation, and SEM of the tumor volume. \n",
    "mean = clean_df['Tumor Volume (mm3)'].groupby(clean_df['Drug Regimen']).mean()\n",
    "median = clean_df['Tumor Volume (mm3)'].groupby(clean_df['Drug Regimen']).median()\n",
    "var = clean_df['Tumor Volume (mm3)'].groupby(clean_df['Drug Regimen']).var()\n",
    "std = clean_df['Tumor Volume (mm3)'].groupby(clean_df['Drug Regimen']).std()\n",
    "sem = clean_df['Tumor Volume (mm3)'].groupby(clean_df['Drug Regimen']).sem()\n",
    "\n",
    "summary_stat = pd.DataFrame({\"Mean Tumor Volume\":mean, \n",
    "\"Median Tumor Volume\":median, \n",
    "\"Tumor Volume Variance\":var, \n",
    "\"Tumor Volume Std. Dev.\":std, \n",
    "\"Tumor Volume Std. Err.\":sem})\n",
    "# Assemble the resulting series into a single summary DataFrame.\n",
    "print (summary_stat)\n"
   ]
  },
  {
   "cell_type": "code",
   "execution_count": 22,
   "metadata": {},
   "outputs": [
    {
     "data": {
      "text/html": [
       "<div>\n",
       "<style scoped>\n",
       "    .dataframe tbody tr th:only-of-type {\n",
       "        vertical-align: middle;\n",
       "    }\n",
       "\n",
       "    .dataframe tbody tr th {\n",
       "        vertical-align: top;\n",
       "    }\n",
       "\n",
       "    .dataframe thead tr th {\n",
       "        text-align: left;\n",
       "    }\n",
       "\n",
       "    .dataframe thead tr:last-of-type th {\n",
       "        text-align: right;\n",
       "    }\n",
       "</style>\n",
       "<table border=\"1\" class=\"dataframe\">\n",
       "  <thead>\n",
       "    <tr>\n",
       "      <th></th>\n",
       "      <th colspan=\"5\" halign=\"left\">Tumor Volume (mm3)</th>\n",
       "    </tr>\n",
       "    <tr>\n",
       "      <th></th>\n",
       "      <th>mean</th>\n",
       "      <th>median</th>\n",
       "      <th>var</th>\n",
       "      <th>std</th>\n",
       "      <th>sem</th>\n",
       "    </tr>\n",
       "    <tr>\n",
       "      <th>Drug Regimen</th>\n",
       "      <th></th>\n",
       "      <th></th>\n",
       "      <th></th>\n",
       "      <th></th>\n",
       "      <th></th>\n",
       "    </tr>\n",
       "  </thead>\n",
       "  <tbody>\n",
       "    <tr>\n",
       "      <th>Capomulin</th>\n",
       "      <td>40.675741</td>\n",
       "      <td>41.557809</td>\n",
       "      <td>24.947764</td>\n",
       "      <td>4.994774</td>\n",
       "      <td>0.329346</td>\n",
       "    </tr>\n",
       "    <tr>\n",
       "      <th>Ceftamin</th>\n",
       "      <td>52.591172</td>\n",
       "      <td>51.776157</td>\n",
       "      <td>39.290177</td>\n",
       "      <td>6.268188</td>\n",
       "      <td>0.469821</td>\n",
       "    </tr>\n",
       "    <tr>\n",
       "      <th>Infubinol</th>\n",
       "      <td>52.884795</td>\n",
       "      <td>51.820584</td>\n",
       "      <td>43.128684</td>\n",
       "      <td>6.567243</td>\n",
       "      <td>0.492236</td>\n",
       "    </tr>\n",
       "    <tr>\n",
       "      <th>Ketapril</th>\n",
       "      <td>55.235638</td>\n",
       "      <td>53.698743</td>\n",
       "      <td>68.553577</td>\n",
       "      <td>8.279709</td>\n",
       "      <td>0.603860</td>\n",
       "    </tr>\n",
       "    <tr>\n",
       "      <th>Naftisol</th>\n",
       "      <td>54.331565</td>\n",
       "      <td>52.509285</td>\n",
       "      <td>66.173479</td>\n",
       "      <td>8.134708</td>\n",
       "      <td>0.596466</td>\n",
       "    </tr>\n",
       "    <tr>\n",
       "      <th>Placebo</th>\n",
       "      <td>54.033581</td>\n",
       "      <td>52.288934</td>\n",
       "      <td>61.168083</td>\n",
       "      <td>7.821003</td>\n",
       "      <td>0.581331</td>\n",
       "    </tr>\n",
       "    <tr>\n",
       "      <th>Propriva</th>\n",
       "      <td>52.320930</td>\n",
       "      <td>50.446266</td>\n",
       "      <td>43.852013</td>\n",
       "      <td>6.622085</td>\n",
       "      <td>0.544332</td>\n",
       "    </tr>\n",
       "    <tr>\n",
       "      <th>Ramicane</th>\n",
       "      <td>40.216745</td>\n",
       "      <td>40.673236</td>\n",
       "      <td>23.486704</td>\n",
       "      <td>4.846308</td>\n",
       "      <td>0.320955</td>\n",
       "    </tr>\n",
       "    <tr>\n",
       "      <th>Stelasyn</th>\n",
       "      <td>54.233149</td>\n",
       "      <td>52.431737</td>\n",
       "      <td>59.450562</td>\n",
       "      <td>7.710419</td>\n",
       "      <td>0.573111</td>\n",
       "    </tr>\n",
       "    <tr>\n",
       "      <th>Zoniferol</th>\n",
       "      <td>53.236507</td>\n",
       "      <td>51.818479</td>\n",
       "      <td>48.533355</td>\n",
       "      <td>6.966589</td>\n",
       "      <td>0.516398</td>\n",
       "    </tr>\n",
       "  </tbody>\n",
       "</table>\n",
       "</div>"
      ],
      "text/plain": [
       "             Tumor Volume (mm3)                                          \n",
       "                           mean     median        var       std       sem\n",
       "Drug Regimen                                                             \n",
       "Capomulin             40.675741  41.557809  24.947764  4.994774  0.329346\n",
       "Ceftamin              52.591172  51.776157  39.290177  6.268188  0.469821\n",
       "Infubinol             52.884795  51.820584  43.128684  6.567243  0.492236\n",
       "Ketapril              55.235638  53.698743  68.553577  8.279709  0.603860\n",
       "Naftisol              54.331565  52.509285  66.173479  8.134708  0.596466\n",
       "Placebo               54.033581  52.288934  61.168083  7.821003  0.581331\n",
       "Propriva              52.320930  50.446266  43.852013  6.622085  0.544332\n",
       "Ramicane              40.216745  40.673236  23.486704  4.846308  0.320955\n",
       "Stelasyn              54.233149  52.431737  59.450562  7.710419  0.573111\n",
       "Zoniferol             53.236507  51.818479  48.533355  6.966589  0.516398"
      ]
     },
     "execution_count": 22,
     "metadata": {},
     "output_type": "execute_result"
    }
   ],
   "source": [
    "# Generate a summary statistics table of mean, median, variance, standard deviation, \n",
    "# and SEM of the tumor volume for each regimen\n",
    "\n",
    "# Using the aggregation method, produce the same summary statistics in a single line.\n",
    "summary_aggregation =  clean_df.groupby(['Drug Regimen'])[['Tumor Volume (mm3)']].agg(['mean', 'median', 'var', 'std', 'sem'])\n",
    "summary_aggregation"
   ]
  },
  {
   "cell_type": "markdown",
   "metadata": {},
   "source": [
    "## Bar and Pie Charts"
   ]
  },
  {
   "cell_type": "code",
   "execution_count": 24,
   "metadata": {
    "scrolled": true
   },
   "outputs": [
    {
     "data": {
      "text/plain": [
       "Text(0.5, 1.0, 'Mice per Treatment')"
      ]
     },
     "execution_count": 24,
     "metadata": {},
     "output_type": "execute_result"
    },
    {
     "data": {
      "image/png": "[encoded data removed]",
      "text/plain": [
       "<Figure size 640x480 with 1 Axes>"
      ]
     },
     "metadata": {},
     "output_type": "display_data"
    }
   ],
   "source": [
    "# Generate a bar plot showing the total number of timepoints for all mice tested for each drug regimen using Pandas.\n",
    "mice_count_df = clean_df[\"Drug Regimen\"].value_counts()\n",
    "mice_count_df\n",
    "\n",
    "plot_pandas = mice_count_df.plot.bar(color='r')\n",
    "\n",
    "plt.xlabel(\"Drugs\")\n",
    "plt.ylabel(\"Mice\")\n",
    "plt.title(\"Mice per Treatment\")"
   ]
  },
  {
   "cell_type": "code",
   "execution_count": 26,
   "metadata": {},
   "outputs": [
    {
     "data": {
      "image/png": "[encoded data removed]",
      "text/plain": [
       "<Figure size 640x480 with 1 Axes>"
      ]
     },
     "metadata": {},
     "output_type": "display_data"
    }
   ],
   "source": [
    "# Generate a bar plot showing the total number of timepoints for all mice tested for each drug regimen using pyplot.\n",
    "\n",
    "x_axis = mice_count_df.index.values\n",
    "y_axis = mice_count_df.values\n",
    "\n",
    "plt.bar(x_axis, y_axis, color='r', alpha=0.8, align='center')\n",
    "\n",
    "\n",
    "plt.title(\"Number of Mice Tested per Treatment\")\n",
    "plt.xlabel(\"Drugs\")\n",
    "plt.ylabel(\"Mice\")\n",
    "plt.xticks(rotation=\"vertical\")\n",
    "\n",
    "\n",
    "plt.show()"
   ]
  },
  {
   "cell_type": "code",
   "execution_count": 28,
   "metadata": {},
   "outputs": [
    {
     "data": {
      "image/png": "[encoded data removed]",
      "text/plain": [
       "<Figure size 640x480 with 1 Axes>"
      ]
     },
     "metadata": {},
     "output_type": "display_data"
    }
   ],
   "source": [
    "# Generate a pie plot showing the distribution of female versus male mice using Pandas\n",
    "#Can't use \"Gender\"\n",
    "gender_data = clean_df[\"Sex\"].value_counts()\n",
    "plt.title(\"Female vs. Male Mice\")\n",
    "gender_data.plot.pie(autopct= \"%1.1f%%\")\n",
    "plt.show()\n"
   ]
  },
  {
   "cell_type": "code",
   "execution_count": 29,
   "metadata": {},
   "outputs": [
    {
     "data": {
      "image/png": "[encoded data removed]",
      "text/plain": [
       "<Figure size 640x480 with 1 Axes>"
      ]
     },
     "metadata": {},
     "output_type": "display_data"
    }
   ],
   "source": [
    "# Generate a pie plot showing the distribution of female versus male mice using pyplot\n",
    "\n",
    "labels = ['Female', 'Male']\n",
    "sizes = [49.7999197, 50.200803]\n",
    "plot = gender_data.plot.pie(y='Total Count', autopct=\"%1.1f%%\")\n",
    "plt.title('Male vs Female Mouse Population')\n",
    "plt.ylabel('Sex')\n",
    "plt.show()"
   ]
  },
  {
   "cell_type": "markdown",
   "metadata": {},
   "source": [
    "## Quartiles, Outliers and Boxplots"
   ]
  },
  {
   "cell_type": "code",
   "execution_count": 35,
   "metadata": {},
   "outputs": [],
   "source": [
    "# Calculate the final tumor volume of each mouse across four of the treatment regimens:  \n",
    "# Capomulin, Ramicane, Infubinol, and Ceftamin\n",
    "\n",
    "Capomulin_df = clean_df.loc[clean_df[\"Drug Regimen\"] == \"Capomulin\",:]\n",
    "Ramicane_df = clean_df.loc[clean_df[\"Drug Regimen\"] == \"Ramicane\", :]\n",
    "Infubinol_df = clean_df.loc[clean_df[\"Drug Regimen\"] == \"Infubinol\", :]\n",
    "Ceftamin_df = clean_df.loc[clean_df[\"Drug Regimen\"] == \"Ceftamin\", :]"
   ]
  },
  {
   "cell_type": "code",
   "execution_count": 36,
   "metadata": {},
   "outputs": [
    {
     "name": "stdout",
     "output_type": "stream",
     "text": [
      "The lower quartile of Capomulin tumors: 32.37735684\n",
      "The upper quartile of Capomulin tumors: 40.1592203\n",
      "The interquartile range of Capomulin tumors: 7.781863460000004\n",
      "The median of Capomulin tumors: 38.1251644 \n",
      "Values below 20.70456164999999 could be outliers.\n",
      "Values above 51.83201549 could be outliers.\n"
     ]
    }
   ],
   "source": [
    "# Start by getting the last (greatest) timepoint for each mouse\n",
    "# Greatest is Cap\n",
    "\n",
    "Capomulin_last = Capomulin_df.groupby('Mouse ID').max()['Timepoint']\n",
    "Capomulin_vol = pd.DataFrame(Capomulin_last)\n",
    "Capomulin_merge = pd.merge(Capomulin_vol, clean_df, on=(\"Mouse ID\",\"Timepoint\"),how=\"left\")\n",
    "Capomulin_merge.head()\n",
    "\n",
    "#Cap Info\n",
    "Capomulin_tumors = Capomulin_merge[\"Tumor Volume (mm3)\"]\n",
    "\n",
    "quartiles =Capomulin_tumors.quantile([.25,.5,.75])\n",
    "lowerq = quartiles[0.25]\n",
    "upperq = quartiles[0.75]\n",
    "iqr = upperq-lowerq\n",
    "\n",
    "\n",
    "print(f\"The lower quartile of Capomulin tumors: {lowerq}\")\n",
    "print(f\"The upper quartile of Capomulin tumors: {upperq}\")\n",
    "print(f\"The interquartile range of Capomulin tumors: {iqr}\")\n",
    "print(f\"The median of Capomulin tumors: {quartiles[0.5]} \")\n",
    "\n",
    "lower_bound = lowerq - (1.5*iqr)\n",
    "upper_bound = upperq + (1.5*iqr)\n",
    "\n",
    "print(f\"Values below {lower_bound} could be outliers.\")\n",
    "print(f\"Values above {upper_bound} could be outliers.\")"
   ]
  },
  {
   "cell_type": "code",
   "execution_count": 37,
   "metadata": {},
   "outputs": [
    {
     "name": "stdout",
     "output_type": "stream",
     "text": [
      "The lower quartile of Ramicane tumors is: 31.56046955\n",
      "The upper quartile of Ramicane tumors is: 40.65900627\n",
      "The interquartile range of Ramicane tumors is: 9.098536719999998\n",
      "The median of Ramicane tumors is: 36.56165229 \n",
      "Values below 17.912664470000003 could be outliers.\n",
      "Values above 54.30681135 could be outliers.\n"
     ]
    }
   ],
   "source": [
    "# Merge this group df with the original DataFrame to get the tumor volume at the last timepoint\n",
    "# Ram up next\n",
    "\n",
    "Ramicane_last = Ramicane_df.groupby('Mouse ID').max()['Timepoint']\n",
    "Ramicane_vol = pd.DataFrame(Ramicane_last)\n",
    "Ramicane_merge = pd.merge(Ramicane_vol, clean_df, on=(\"Mouse ID\",\"Timepoint\"),how=\"left\")\n",
    "Ramicane_merge.head()\n",
    "Ramicane_merge.to_csv(\"output.csv\")\n",
    "Ramicane_tumors = Ramicane_merge[\"Tumor Volume (mm3)\"]\n",
    "\n",
    "quartiles =Ramicane_tumors.quantile([.25,.5,.75])\n",
    "lowerq = quartiles[0.25]\n",
    "upperq = quartiles[0.75]\n",
    "iqr = upperq-lowerq\n",
    "\n",
    "\n",
    "print(f\"The lower quartile of Ramicane tumors is: {lowerq}\")\n",
    "print(f\"The upper quartile of Ramicane tumors is: {upperq}\")\n",
    "print(f\"The interquartile range of Ramicane tumors is: {iqr}\")\n",
    "print(f\"The median of Ramicane tumors is: {quartiles[0.5]} \")\n",
    "\n",
    "lower_bound = lowerq - (1.5*iqr)\n",
    "upper_bound = upperq + (1.5*iqr)\n",
    "\n",
    "print(f\"Values below {lower_bound} could be outliers.\")\n",
    "print(f\"Values above {upper_bound} could be outliers.\")"
   ]
  },
  {
   "cell_type": "code",
   "execution_count": 38,
   "metadata": {},
   "outputs": [
    {
     "name": "stdout",
     "output_type": "stream",
     "text": [
      "The lower quartile of Infubinol tumors is: 54.04860769\n",
      "The upper quartile of Infubinol tumors is: 65.52574285\n",
      "The interquartile range of Infubinol tumors is: 11.477135160000003\n",
      "The median of Infubinol tumors is: 60.16518046 \n",
      "Values below 36.83290494999999 could be outliers.\n",
      "Values above 82.74144559000001 could be outliers.\n"
     ]
    }
   ],
   "source": [
    "# Infu Info\n",
    "\n",
    "Infubinol_last = Infubinol_df.groupby('Mouse ID').max()['Timepoint']\n",
    "Infubinol_vol = pd.DataFrame(Infubinol_last)\n",
    "Infubinol_merge = pd.merge(Infubinol_vol, clean_df, on=(\"Mouse ID\",\"Timepoint\"),how=\"left\")\n",
    "Infubinol_merge.head()\n",
    "\n",
    "\n",
    "Infubinol_tumors = Infubinol_merge[\"Tumor Volume (mm3)\"]\n",
    "\n",
    "quartiles =Infubinol_tumors.quantile([.25,.5,.75])\n",
    "lowerq = quartiles[0.25]\n",
    "upperq = quartiles[0.75]\n",
    "iqr = upperq-lowerq\n",
    "\n",
    "\n",
    "print(f\"The lower quartile of Infubinol tumors is: {lowerq}\")\n",
    "print(f\"The upper quartile of Infubinol tumors is: {upperq}\")\n",
    "print(f\"The interquartile range of Infubinol tumors is: {iqr}\")\n",
    "print(f\"The median of Infubinol tumors is: {quartiles[0.5]} \")\n",
    "\n",
    "lower_bound = lowerq - (1.5*iqr)\n",
    "upper_bound = upperq + (1.5*iqr)\n",
    "\n",
    "\n",
    "print(f\"Values below {lower_bound} could be outliers.\")\n",
    "print(f\"Values above {upper_bound} could be outliers.\")\n",
    "Infubinol_merge.to_csv(\"output.csv\")"
   ]
  },
  {
   "cell_type": "code",
   "execution_count": 50,
   "metadata": {},
   "outputs": [
    {
     "name": "stdout",
     "output_type": "stream",
     "text": [
      "The lower quartile of treatment is: 48.72207785\n",
      "The upper quartile of temperatures is: 64.29983003\n",
      "The interquartile range of temperatures is: 15.577752179999997\n",
      "The the median of temperatures is: 59.85195552 \n",
      "Values below 25.355449580000002 could be outliers.\n",
      "Values above 87.66645829999999 could be outliers.\n"
     ]
    }
   ],
   "source": [
    "# Ceft Info\n",
    "Ceftamin_last = Ceftamin_df.groupby('Mouse ID').max()['Timepoint']\n",
    "Ceftamin_vol = pd.DataFrame(Ceftamin_last)\n",
    "Ceftamin_merge = pd.merge(Ceftamin_vol, clean_df, on=(\"Mouse ID\",\"Timepoint\"),how=\"left\")\n",
    "Ceftamin_merge.head()\n",
    "\n",
    "\n",
    "Ceftamin_tumors = Ceftamin_merge[\"Tumor Volume (mm3)\"]\n",
    "\n",
    "quartiles = Ceftamin_tumors.quantile([.25,.5,.75])\n",
    "lowerq = quartiles[0.25]\n",
    "upperq = quartiles[0.75]\n",
    "iqr = upperq-lowerq\n",
    "\n",
    "print(f\"The lower quartile of treatment is: {lowerq}\")\n",
    "print(f\"The upper quartile of temperatures is: {upperq}\")\n",
    "print(f\"The interquartile range of temperatures is: {iqr}\")\n",
    "print(f\"The the median of temperatures is: {quartiles[0.5]} \")\n",
    "\n",
    "# Determine outliers using upper and lower bounds\n",
    "\n",
    "lower_bound = lowerq - (1.5*iqr)\n",
    "upper_bound = upperq + (1.5*iqr)\n",
    "\n",
    "print(f\"Values below {lower_bound} could be outliers.\")\n",
    "print(f\"Values above {upper_bound} could be outliers.\")"
   ]
  },
  {
   "cell_type": "code",
   "execution_count": 51,
   "metadata": {},
   "outputs": [
    {
     "ename": "KeyError",
     "evalue": "'Capomulin'",
     "output_type": "error",
     "traceback": [
      "\u001b[0;31m---------------------------------------------------------------------------\u001b[0m",
      "\u001b[0;31mKeyError\u001b[0m                                  Traceback (most recent call last)",
      "\u001b[0;32m~/opt/anaconda3/lib/python3.9/site-packages/pandas/core/indexes/base.py\u001b[0m in \u001b[0;36mget_loc\u001b[0;34m(self, key, method, tolerance)\u001b[0m\n\u001b[1;32m   3628\u001b[0m             \u001b[0;32mtry\u001b[0m\u001b[0;34m:\u001b[0m\u001b[0;34m\u001b[0m\u001b[0;34m\u001b[0m\u001b[0m\n\u001b[0;32m-> 3629\u001b[0;31m                 \u001b[0;32mreturn\u001b[0m \u001b[0mself\u001b[0m\u001b[0;34m.\u001b[0m\u001b[0m_engine\u001b[0m\u001b[0;34m.\u001b[0m\u001b[0mget_loc\u001b[0m\u001b[0;34m(\u001b[0m\u001b[0mcasted_key\u001b[0m\u001b[0;34m)\u001b[0m\u001b[0;34m\u001b[0m\u001b[0;34m\u001b[0m\u001b[0m\n\u001b[0m\u001b[1;32m   3630\u001b[0m             \u001b[0;32mexcept\u001b[0m \u001b[0mKeyError\u001b[0m \u001b[0;32mas\u001b[0m \u001b[0merr\u001b[0m\u001b[0;34m:\u001b[0m\u001b[0;34m\u001b[0m\u001b[0;34m\u001b[0m\u001b[0m\n",
      "\u001b[0;32m~/opt/anaconda3/lib/python3.9/site-packages/pandas/_libs/index.pyx\u001b[0m in \u001b[0;36mpandas._libs.index.IndexEngine.get_loc\u001b[0;34m()\u001b[0m\n",
      "\u001b[0;32m~/opt/anaconda3/lib/python3.9/site-packages/pandas/_libs/index.pyx\u001b[0m in \u001b[0;36mpandas._libs.index.IndexEngine.get_loc\u001b[0;34m()\u001b[0m\n",
      "\u001b[0;32mpandas/_libs/hashtable_class_helper.pxi\u001b[0m in \u001b[0;36mpandas._libs.hashtable.PyObjectHashTable.get_item\u001b[0;34m()\u001b[0m\n",
      "\u001b[0;32mpandas/_libs/hashtable_class_helper.pxi\u001b[0m in \u001b[0;36mpandas._libs.hashtable.PyObjectHashTable.get_item\u001b[0;34m()\u001b[0m\n",
      "\u001b[0;31mKeyError\u001b[0m: 'Capomulin'",
      "\nThe above exception was the direct cause of the following exception:\n",
      "\u001b[0;31mKeyError\u001b[0m                                  Traceback (most recent call last)",
      "\u001b[0;32m/var/folders/jf/4m7f71fx5kq0wwyg7d7kh7d40000gn/T/ipykernel_80513/1852428366.py\u001b[0m in \u001b[0;36m<module>\u001b[0;34m\u001b[0m\n\u001b[1;32m     23\u001b[0m \u001b[0mtreatment\u001b[0m \u001b[0;34m=\u001b[0m \u001b[0;36m0\u001b[0m\u001b[0;34m\u001b[0m\u001b[0;34m\u001b[0m\u001b[0m\n\u001b[1;32m     24\u001b[0m \u001b[0;32mfor\u001b[0m \u001b[0mdrug\u001b[0m \u001b[0;32min\u001b[0m \u001b[0mdrug_list\u001b[0m\u001b[0;34m:\u001b[0m\u001b[0;34m\u001b[0m\u001b[0;34m\u001b[0m\u001b[0m\n\u001b[0;32m---> 25\u001b[0;31m     \u001b[0mquartiles\u001b[0m \u001b[0;34m=\u001b[0m \u001b[0mlast_timepoint\u001b[0m\u001b[0;34m[\u001b[0m\u001b[0mdrug\u001b[0m\u001b[0;34m]\u001b[0m\u001b[0;34m.\u001b[0m\u001b[0mquantile\u001b[0m\u001b[0;34m(\u001b[0m\u001b[0;34m[\u001b[0m\u001b[0;36m.25\u001b[0m\u001b[0;34m,\u001b[0m\u001b[0;36m.5\u001b[0m\u001b[0;34m,\u001b[0m\u001b[0;36m.75\u001b[0m\u001b[0;34m]\u001b[0m\u001b[0;34m)\u001b[0m\u001b[0;34m.\u001b[0m\u001b[0mround\u001b[0m\u001b[0;34m(\u001b[0m\u001b[0;36m2\u001b[0m\u001b[0;34m)\u001b[0m\u001b[0;34m\u001b[0m\u001b[0;34m\u001b[0m\u001b[0m\n\u001b[0m\u001b[1;32m     26\u001b[0m     \u001b[0mlowerq\u001b[0m \u001b[0;34m=\u001b[0m \u001b[0mquartiles\u001b[0m\u001b[0;34m[\u001b[0m\u001b[0;36m0.25\u001b[0m\u001b[0;34m]\u001b[0m\u001b[0;34m.\u001b[0m\u001b[0mround\u001b[0m\u001b[0;34m(\u001b[0m\u001b[0;36m2\u001b[0m\u001b[0;34m)\u001b[0m\u001b[0;34m\u001b[0m\u001b[0;34m\u001b[0m\u001b[0m\n\u001b[1;32m     27\u001b[0m     \u001b[0mupperq\u001b[0m \u001b[0;34m=\u001b[0m \u001b[0mquartiles\u001b[0m\u001b[0;34m[\u001b[0m\u001b[0;36m0.75\u001b[0m\u001b[0;34m]\u001b[0m\u001b[0;34m.\u001b[0m\u001b[0mround\u001b[0m\u001b[0;34m(\u001b[0m\u001b[0;36m2\u001b[0m\u001b[0;34m)\u001b[0m\u001b[0;34m\u001b[0m\u001b[0;34m\u001b[0m\u001b[0m\n",
      "\u001b[0;32m~/opt/anaconda3/lib/python3.9/site-packages/pandas/core/frame.py\u001b[0m in \u001b[0;36m__getitem__\u001b[0;34m(self, key)\u001b[0m\n\u001b[1;32m   3503\u001b[0m             \u001b[0;32mif\u001b[0m \u001b[0mself\u001b[0m\u001b[0;34m.\u001b[0m\u001b[0mcolumns\u001b[0m\u001b[0;34m.\u001b[0m\u001b[0mnlevels\u001b[0m \u001b[0;34m>\u001b[0m \u001b[0;36m1\u001b[0m\u001b[0;34m:\u001b[0m\u001b[0;34m\u001b[0m\u001b[0;34m\u001b[0m\u001b[0m\n\u001b[1;32m   3504\u001b[0m                 \u001b[0;32mreturn\u001b[0m \u001b[0mself\u001b[0m\u001b[0;34m.\u001b[0m\u001b[0m_getitem_multilevel\u001b[0m\u001b[0;34m(\u001b[0m\u001b[0mkey\u001b[0m\u001b[0;34m)\u001b[0m\u001b[0;34m\u001b[0m\u001b[0;34m\u001b[0m\u001b[0m\n\u001b[0;32m-> 3505\u001b[0;31m             \u001b[0mindexer\u001b[0m \u001b[0;34m=\u001b[0m \u001b[0mself\u001b[0m\u001b[0;34m.\u001b[0m\u001b[0mcolumns\u001b[0m\u001b[0;34m.\u001b[0m\u001b[0mget_loc\u001b[0m\u001b[0;34m(\u001b[0m\u001b[0mkey\u001b[0m\u001b[0;34m)\u001b[0m\u001b[0;34m\u001b[0m\u001b[0;34m\u001b[0m\u001b[0m\n\u001b[0m\u001b[1;32m   3506\u001b[0m             \u001b[0;32mif\u001b[0m \u001b[0mis_integer\u001b[0m\u001b[0;34m(\u001b[0m\u001b[0mindexer\u001b[0m\u001b[0;34m)\u001b[0m\u001b[0;34m:\u001b[0m\u001b[0;34m\u001b[0m\u001b[0;34m\u001b[0m\u001b[0m\n\u001b[1;32m   3507\u001b[0m                 \u001b[0mindexer\u001b[0m \u001b[0;34m=\u001b[0m \u001b[0;34m[\u001b[0m\u001b[0mindexer\u001b[0m\u001b[0;34m]\u001b[0m\u001b[0;34m\u001b[0m\u001b[0;34m\u001b[0m\u001b[0m\n",
      "\u001b[0;32m~/opt/anaconda3/lib/python3.9/site-packages/pandas/core/indexes/base.py\u001b[0m in \u001b[0;36mget_loc\u001b[0;34m(self, key, method, tolerance)\u001b[0m\n\u001b[1;32m   3629\u001b[0m                 \u001b[0;32mreturn\u001b[0m \u001b[0mself\u001b[0m\u001b[0;34m.\u001b[0m\u001b[0m_engine\u001b[0m\u001b[0;34m.\u001b[0m\u001b[0mget_loc\u001b[0m\u001b[0;34m(\u001b[0m\u001b[0mcasted_key\u001b[0m\u001b[0;34m)\u001b[0m\u001b[0;34m\u001b[0m\u001b[0;34m\u001b[0m\u001b[0m\n\u001b[1;32m   3630\u001b[0m             \u001b[0;32mexcept\u001b[0m \u001b[0mKeyError\u001b[0m \u001b[0;32mas\u001b[0m \u001b[0merr\u001b[0m\u001b[0;34m:\u001b[0m\u001b[0;34m\u001b[0m\u001b[0;34m\u001b[0m\u001b[0m\n\u001b[0;32m-> 3631\u001b[0;31m                 \u001b[0;32mraise\u001b[0m \u001b[0mKeyError\u001b[0m\u001b[0;34m(\u001b[0m\u001b[0mkey\u001b[0m\u001b[0;34m)\u001b[0m \u001b[0;32mfrom\u001b[0m \u001b[0merr\u001b[0m\u001b[0;34m\u001b[0m\u001b[0;34m\u001b[0m\u001b[0m\n\u001b[0m\u001b[1;32m   3632\u001b[0m             \u001b[0;32mexcept\u001b[0m \u001b[0mTypeError\u001b[0m\u001b[0;34m:\u001b[0m\u001b[0;34m\u001b[0m\u001b[0;34m\u001b[0m\u001b[0m\n\u001b[1;32m   3633\u001b[0m                 \u001b[0;31m# If we have a listlike key, _check_indexing_error will raise\u001b[0m\u001b[0;34m\u001b[0m\u001b[0;34m\u001b[0m\u001b[0m\n",
      "\u001b[0;31mKeyError\u001b[0m: 'Capomulin'"
     ]
    }
   ],
   "source": [
    "# Put treatments into a list for for loop (and later for plot labels)\n",
    "\n",
    "\n",
    "# Create empty list to fill with tumor vol data (for plotting)\n",
    "\n",
    "\n",
    "# Calculate the IQR and quantitatively determine if there are any potential outliers. \n",
    "\n",
    "    \n",
    "    # Locate the rows which contain mice on each drug and get the tumor volumes\n",
    "    \n",
    "    \n",
    "    # add subset \n",
    "    \n",
    "    \n",
    "    # Determine outliers using upper and lower bounds\n",
    "    \n",
    "drug_list = [\"Capomulin\", \"Ramicane\", \"Infubinol\", \"Ceftamin\"]\n",
    "drugs = combined_df[combined_df[\"Drug Regimen\"].isin(drug_list)]\n",
    "drugs.head()\n",
    "\n",
    "last_timepoint = drugs.groupby([\"Drug Regimen\", \"Mouse ID\"]).agg(tumor_size=(\"Tumor Volume (mm3)\", lambda x: x.iloc[-1]))\n",
    "    \n",
    "treatment = 0\n",
    "for drug in drug_list:\n",
    "    quartiles = last_timepoint[drug].quantile([.25,.5,.75]).round(2)\n",
    "    lowerq = quartiles[0.25].round(2)\n",
    "    upperq = quartiles[0.75].round(2)\n",
    "    iqr = round(upperq-lowerq,2)\n",
    "    lower_bound = round(lowerq - (1.5*iqr),2)\n",
    "    upper_bound = round(upperq + (1.5*iqr),2)\n",
    "\n",
    "\n",
    "    if treatment == 0:\n",
    "        print(f\"------------------------------------------------------------\")\n",
    "    print(f\"The lower quartile of {drug} treatments is: {lowerq}\")\n",
    "    print(f\"The upper quartile of {drug} treatments is: {upperq}\")\n",
    "    print(f\"The interquartile range of {drug} treatments is: {iqr}\")\n",
    "    print(f\"Values below {lower_bound} could be {drug} outliers.\")\n",
    "    print(f\"Values above {upper_bound} could be {drug} outliers.\")\n",
    "    print(f\"------------------------------------------------------------\")\n",
    "    treatment+=1\n",
    "    "
   ]
  },
  {
   "cell_type": "code",
   "execution_count": null,
   "metadata": {},
   "outputs": [],
   "source": []
  },
  {
   "cell_type": "code",
   "execution_count": 69,
   "metadata": {},
   "outputs": [
    {
     "data": {
      "image/png": "[encoded data removed]",
      "text/plain": [
       "<Figure size 640x480 with 1 Axes>"
      ]
     },
     "metadata": {},
     "output_type": "display_data"
    }
   ],
   "source": [
    "# Generate a box plot that shows the distrubution of the tumor volume for each treatment group.\n",
    "\n",
    "\n",
    "Final_Tumor_Size = dup_mice_df.drop_duplicates(subset = (\"Mouse ID\"), keep = \"last\")\n",
    "Final_Tumor_by_drug = Final_Tumor_Size[[\"Mouse ID\", \"Drug Regimen\", \"Tumor Volume (mm3)\"]]\n",
    "Final_Tumor_Size_Capomulin = Final_Tumor_by_drug.loc[Final_Tumor_by_drug[\"Drug Regimen\"] == \"Capomulin\"]\n",
    "Final_Tumor_Size_Ramicane = Final_Tumor_by_drug.loc[Final_Tumor_by_drug[\"Drug Regimen\"] == \"Ramicane\"]\n",
    "Final_Tumor_Size_Infubinol = Final_Tumor_by_drug.loc[Final_Tumor_by_drug[\"Drug Regimen\"] == \"Infubinol\"]\n",
    "Final_Tumor_Size_Ceftamin = Final_Tumor_by_drug.loc[Final_Tumor_by_drug[\"Drug Regimen\"] == \"Ceftamin\"]\n",
    "\n",
    "\n",
    "\n",
    "box_plot_df = pd.DataFrame({\"Capomulin\" : Final_Tumor_Size_Capomulin[\"Tumor Volume (mm3)\"],\n",
    "                            \"Ramicane\" : Final_Tumor_Size_Ramicane[\"Tumor Volume (mm3)\"],\n",
    "                           \"Infubinol\" : Final_Tumor_Size_Infubinol[\"Tumor Volume (mm3)\"],\n",
    "                        \"Ceftamin\" : Final_Tumor_Size_Ceftamin[\"Tumor Volume (mm3)\"]})\n",
    "\n",
    "\n",
    "\n",
    "\n",
    "myboxplot = box_plot_df.boxplot(column = [\"Capomulin\", \"Ramicane\", \"Infubinol\", \"Ceftamin\"], grid = False,\n",
    "                                flierprops = red_circle,)\n",
    "                              \n",
    "plt.title(\"Tumor Volume at Selected Mouse\")\n",
    "plt.xlabel(\"Drug\")\n",
    "plt.ylabel(\"Final Tumor Volume (mm3)\")\n",
    "plt.show()\n",
    "\n",
    "    "
   ]
  },
  {
   "cell_type": "markdown",
   "metadata": {},
   "source": [
    "## Line and Scatter Plots"
   ]
  },
  {
   "cell_type": "code",
   "execution_count": 73,
   "metadata": {
    "scrolled": false
   },
   "outputs": [
    {
     "data": {
      "image/png": "[encoded data removed]",
      "text/plain": [
       "<Figure size 640x480 with 1 Axes>"
      ]
     },
     "metadata": {},
     "output_type": "display_data"
    }
   ],
   "source": [
    "# Generate a line plot of tumor volume vs. time point for a mouse treated with Capomulin\n",
    "\n",
    "Line_plot = dup_mice_df.loc[dup_mice_df[\"Mouse ID\"] == \"|509\"]\n",
    "x_timepoint = Line_plot[\"Timepoint\"]\n",
    "y_tumor_volume = Line_plot[\"Tumor Volume (mm3)\"]\n",
    "plt.plot(x_timepoint, y_tumor_volume, color = \"green\", marker = \"o\", markerfacecolor = \"white\", linewidth = 2)\n",
    "plt.title(f\"Capomulin Treatment for Mouse |509\")\n",
    "plt.xlabel(\"Time Point in (Days)\")\n",
    "plt.ylabel(\"Tumor Volume (mm3)\")\n",
    "plt.show()"
   ]
  },
  {
   "cell_type": "code",
   "execution_count": 75,
   "metadata": {},
   "outputs": [
    {
     "data": {
      "text/plain": [
       "Text(0, 0.5, 'Averag Tumor Volume (mm3)')"
      ]
     },
     "execution_count": 75,
     "metadata": {},
     "output_type": "execute_result"
    },
    {
     "data": {
      "image/png": "[encoded data removed]",
      "text/plain": [
       "<Figure size 640x480 with 1 Axes>"
      ]
     },
     "metadata": {},
     "output_type": "display_data"
    }
   ],
   "source": [
    "# Generate a scatter plot of average tumor volume vs. mouse weight for the Capomulin regimen\n",
    "\n",
    "fig1, ax1 = plt.subplots()\n",
    "avg_cap_vol_df =Capomulin_df.groupby(['Mouse ID']).mean()\n",
    "\n",
    "marker_size=15\n",
    "plt.scatter(avg_cap_vol_df['Weight (g)'],avg_cap_vol_df['Tumor Volume (mm3)'], color=\"blue\")\n",
    "plt.title('Mouse Weight Versus Average Tumor Volume')\n",
    "plt.xlabel('Weight (g)',fontsize =14)\n",
    "plt.ylabel('Averag Tumor Volume (mm3)')"
   ]
  },
  {
   "cell_type": "markdown",
   "metadata": {},
   "source": [
    "## Correlation and Regression"
   ]
  },
  {
   "cell_type": "code",
   "execution_count": 18,
   "metadata": {},
   "outputs": [
    {
     "name": "stdout",
     "output_type": "stream",
     "text": [
      "The correlation between mouse weight and the average tumor volume is 0.84\n"
     ]
    },
    {
     "data": {
      "image/png": "[encoded data removed]",
      "text/plain": [
       "<Figure size 432x288 with 1 Axes>"
      ]
     },
     "metadata": {
      "needs_background": "light"
     },
     "output_type": "display_data"
    }
   ],
   "source": [
    "# Calculate the correlation coefficient and linear regression model \n",
    "# for mouse weight and average tumor volume for the Capomulin regimen\n",
    "\n"
   ]
  },
  {
   "cell_type": "code",
   "execution_count": null,
   "metadata": {},
   "outputs": [],
   "source": []
  }
 ],
 "metadata": {
  "anaconda-cloud": {},
  "kernelspec": {
   "display_name": "Python 3 (ipykernel)",
   "language": "python",
   "name": "python3"
  },
  "language_info": {
   "codemirror_mode": {
    "name": "ipython",
    "version": 3
   },
   "file_extension": ".py",
   "mimetype": "text/x-python",
   "name": "python",
   "nbconvert_exporter": "python",
   "pygments_lexer": "ipython3",
   "version": "3.9.13"
  }
 },
 "nbformat": 4,
 "nbformat_minor": 4
}
